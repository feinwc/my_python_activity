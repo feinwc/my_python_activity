{
 "cells": [
  {
   "cell_type": "code",
   "execution_count": 10,
   "id": "9125a39a",
   "metadata": {},
   "outputs": [
    {
     "name": "stdout",
     "output_type": "stream",
     "text": [
      "123               Law Enforcement\n",
      "224      Fire and Rescue Services\n",
      "101    Emergency Medical Services\n",
      "999          Emergency Management\n",
      "900                  Public Works\n",
      "dtype: object\n",
      "1     Prevention\n",
      "2     Mitigation\n",
      "3    Prepareness\n",
      "4       Response\n",
      "5       Recovery\n",
      "dtype: object\n",
      "0                carotid pulse (neck)\n",
      "1                    breathing (nose)\n",
      "2    obstructions (nose, ears, mouth)\n",
      "3                 pupils (responsive)\n",
      "4                       consciousness\n",
      "5                     contact details\n",
      "6                           allergies\n",
      "dtype: object\n"
     ]
    }
   ],
   "source": [
    "#ues dict, list and series all together\n",
    "import pandas as pd\n",
    "\n",
    "Emergency_numbers = {'123':'Law Enforcement', '224':'Fire and Rescue Services', '101':'Emergency Medical Services', '999':'Emergency Management','900':'Public Works'}\n",
    "Emergency_checklist = ['carotid pulse (neck)', 'breathing (nose)', 'obstructions (nose, ears, mouth)', 'pupils (responsive)', 'consciousness', 'contact details', 'allergies']\n",
    "\n",
    "Emergency_numbers_1 = pd.Series(Emergency_numbers)\n",
    "Emergency_protocols_1 = pd.Series(['Prevention', 'Mitigation','Prepareness','Response','Recovery'], index = ['1','2','3','4','5'])\n",
    "Emergency_checklist_1 = pd.Series(Emergency_checklist)\n",
    "\n",
    "print(Emergency_numbers_1)\n",
    "print(Emergency_protocols_1)\n",
    "print(Emergency_checklist_1)"
   ]
  }
 ],
 "metadata": {
  "kernelspec": {
   "display_name": "Python 3 (ipykernel)",
   "language": "python",
   "name": "python3"
  },
  "language_info": {
   "codemirror_mode": {
    "name": "ipython",
    "version": 3
   },
   "file_extension": ".py",
   "mimetype": "text/x-python",
   "name": "python",
   "nbconvert_exporter": "python",
   "pygments_lexer": "ipython3",
   "version": "3.9.7"
  }
 },
 "nbformat": 4,
 "nbformat_minor": 5
}
