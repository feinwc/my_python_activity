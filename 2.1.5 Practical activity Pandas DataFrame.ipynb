{
 "cells": [
  {
   "cell_type": "code",
   "execution_count": 15,
   "id": "a56b7d26",
   "metadata": {},
   "outputs": [
    {
     "name": "stdout",
     "output_type": "stream",
     "text": [
      "                    Name Annuel Sick Personal Bonus\n",
      "Personal_ID                                        \n",
      "215             Shen Lee     23   10        5     3\n",
      "216           Leon Buhle     20    8        4     0\n",
      "217          Tracy Adams     15   10        5     0\n"
     ]
    }
   ],
   "source": [
    "import pandas as pd\n",
    "\n",
    "data = {'Name':['Shen Lee','Leon Buhle','Tracy Adams'],\n",
    "          'Annuel':['23','20','15'],\n",
    "          'Sick':['10','8','10'],\n",
    "          'Personal':['5','4','5'],\n",
    "          'Bonus':['3','0','0']}\n",
    "\n",
    "row_labels = ['215','216','217']\n",
    "leave_cycle = pd.DataFrame(data, columns=['Name','Annuel','Sick','Personal','Bonus'],\n",
    "                           index = row_labels)\n",
    "leave_cycle.index.name = 'Personal_ID'\n",
    "print(leave_cycle)"
   ]
  }
 ],
 "metadata": {
  "kernelspec": {
   "display_name": "Python 3 (ipykernel)",
   "language": "python",
   "name": "python3"
  },
  "language_info": {
   "codemirror_mode": {
    "name": "ipython",
    "version": 3
   },
   "file_extension": ".py",
   "mimetype": "text/x-python",
   "name": "python",
   "nbconvert_exporter": "python",
   "pygments_lexer": "ipython3",
   "version": "3.9.7"
  }
 },
 "nbformat": 4,
 "nbformat_minor": 5
}
