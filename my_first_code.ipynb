{
 "cells": [
  {
   "cell_type": "code",
   "execution_count": 3,
   "id": "1b3c2df0",
   "metadata": {},
   "outputs": [
    {
     "name": "stdout",
     "output_type": "stream",
     "text": [
      "My Name is Nai-Wen, Chung.\n",
      "The date is 1st June, 2022.\n"
     ]
    }
   ],
   "source": [
    "# this is my first line of code\n",
    "print(\"My Name is Nai-Wen, Chung.\")\n",
    "print(\"The date is 1st June, 2022.\")"
   ]
  },
  {
   "cell_type": "code",
   "execution_count": 8,
   "id": "79f19922",
   "metadata": {},
   "outputs": [
    {
     "name": "stdout",
     "output_type": "stream",
     "text": [
      "182900\n"
     ]
    }
   ],
   "source": [
    "# Write a program to analyse real estate data\n",
    "a = 45000\n",
    "b = 23400\n",
    "c = 67000\n",
    "d = 34600\n",
    "f = 12900\n",
    "\n",
    "total_sales = a + b + c + d + f\n",
    "print(total_sales)"
   ]
  },
  {
   "cell_type": "code",
   "execution_count": 9,
   "id": "02a11ea2",
   "metadata": {},
   "outputs": [
    {
     "name": "stdout",
     "output_type": "stream",
     "text": [
      "36580.0\n"
     ]
    }
   ],
   "source": [
    "#calculate the average sales price for the month\n",
    "\n",
    "avg_sales = total_sales/5\n",
    "print(avg_sales)"
   ]
  },
  {
   "cell_type": "code",
   "execution_count": 11,
   "id": "b6ee11a8",
   "metadata": {},
   "outputs": [
    {
     "name": "stdout",
     "output_type": "stream",
     "text": [
      "60500\n"
     ]
    }
   ],
   "source": [
    "#find the missing value from the last column of the table.\n",
    "\n",
    "missing_value = c - 6500\n",
    "print(missing_value)"
   ]
  }
 ],
 "metadata": {
  "kernelspec": {
   "display_name": "Python 3 (ipykernel)",
   "language": "python",
   "name": "python3"
  },
  "language_info": {
   "codemirror_mode": {
    "name": "ipython",
    "version": 3
   },
   "file_extension": ".py",
   "mimetype": "text/x-python",
   "name": "python",
   "nbconvert_exporter": "python",
   "pygments_lexer": "ipython3",
   "version": "3.9.7"
  }
 },
 "nbformat": 4,
 "nbformat_minor": 5
}
