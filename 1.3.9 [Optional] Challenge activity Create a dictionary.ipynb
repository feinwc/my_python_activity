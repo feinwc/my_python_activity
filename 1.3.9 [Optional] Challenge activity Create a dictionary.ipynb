{
 "cells": [
  {
   "cell_type": "code",
   "execution_count": 16,
   "id": "c864f9ba",
   "metadata": {},
   "outputs": [
    {
     "name": "stdout",
     "output_type": "stream",
     "text": [
      "Manaus Goiânia Rio de Janeiro\n"
     ]
    },
    {
     "data": {
      "text/plain": [
       "27"
      ]
     },
     "execution_count": 16,
     "metadata": {},
     "output_type": "execute_result"
    }
   ],
   "source": [
    "Brazil = {'Acre': 'Rio Branco','Alogoas': 'Maceió','Amapa': 'Macapá','Amazonas': 'Manaus','Bahia': 'Salvador','Ceara': 'Fortaleza','Distrito Federal': 'Brasília','Espirito Santo': 'Vitória','Goiás': 'Goiânia',\n",
    "'Maranhao': 'São Luís','Mato grosso': 'Cuiabá','Mato grosso do sul': 'Campo Grande','Minas gerais': 'Belo Horizonte',\n",
    "'Para': 'Belém','Paraiba': 'João Pessoa','Parana': 'Curitiba','Pernambuco': 'Recife',\n",
    "'Piaui': 'Teresina','Rio de Janeiro': 'Rio de Janeiro','Rio Grande do norte': 'Natal','Rio Grande do Sul': 'Porto Alegre',\n",
    "'Rondonia': 'Porto Velho','Roraima': 'Boa Vista','Santa Catarina': 'Florianópolis',\n",
    "'Sao Paulo': 'São Paulo','Sergipe': 'Aracaju','Tocantins': 'Palmas'}\n",
    "\n",
    "Brazil\n",
    "Amazonas = Brazil['Amazonas']\n",
    "Goiás = Brazil['Goiás']\n",
    "Rio_de_Janeiro = Brazil['Rio de Janeiro']\n",
    "print(Amazonas, Goiás, Rio_de_Janeiro)\n",
    "\n",
    "len(Brazil)"
   ]
  }
 ],
 "metadata": {
  "kernelspec": {
   "display_name": "Python 3 (ipykernel)",
   "language": "python",
   "name": "python3"
  },
  "language_info": {
   "codemirror_mode": {
    "name": "ipython",
    "version": 3
   },
   "file_extension": ".py",
   "mimetype": "text/x-python",
   "name": "python",
   "nbconvert_exporter": "python",
   "pygments_lexer": "ipython3",
   "version": "3.9.7"
  }
 },
 "nbformat": 4,
 "nbformat_minor": 5
}
